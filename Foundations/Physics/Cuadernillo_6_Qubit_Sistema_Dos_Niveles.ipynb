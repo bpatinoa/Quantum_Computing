{
  "cells": [
    {
      "cell_type": "markdown",
      "id": "b4d5879f",
      "metadata": {
        "id": "b4d5879f"
      },
      "source": [
        "# ⚛️ Cuadernillo 6: El Qubit y Sistemas de Dos Niveles\n",
        "\n",
        "## 🎯 Objetivos\n",
        "- Comprender el concepto físico del qubit como sistema de dos niveles.\n",
        "- Relacionar el qubit con sistemas físicos reales (como el espín del electrón).\n",
        "- Analizar cómo se representa un qubit en términos matemáticos.\n",
        "- Visualizar y simular qubits en diferentes estados."
      ]
    },
    {
      "cell_type": "markdown",
      "id": "be2ad46f",
      "metadata": {
        "id": "be2ad46f"
      },
      "source": [
        "## 🧠 1. ¿Qué es un sistema de dos niveles?\n",
        "En física cuántica, un **sistema de dos niveles** es aquel que puede estar en dos posibles estados fundamentales. Un ejemplo clásico es el **espín del electrón**, que puede estar en un estado de 'arriba' $|↑⟩$ o 'abajo' $|↓⟩$.\n",
        "\n",
        "De forma general, llamamos a estos estados base $|0⟩$ y $|1⟩$, y el sistema puede estar en cualquier combinación lineal de estos:\n",
        "$$\n",
        "|\\psi⟩ = \\alpha|0⟩ + \\beta|1⟩,\\quad \\text{con } |\\alpha|^2 + |\\beta|^2 = 1\n",
        "$$\n",
        "Esto representa un **qubit**. La clave está en que $\\alpha$ y $\\beta$ son números complejos y permiten representar infinitas posibilidades."
      ]
    },
    {
      "cell_type": "markdown",
      "id": "4fbb4edf",
      "metadata": {
        "id": "4fbb4edf"
      },
      "source": [
        "## 🔄 2. Estados comunes de qubits\n",
        "Existen ciertos estados que son muy usados en computación cuántica:\n",
        "\n",
        "- **Estado |0⟩**: $\\begin{bmatrix}1 \\\\ 0\\end{bmatrix}$\n",
        "- **Estado |1⟩**: $\\begin{bmatrix}0 \\\\ 1\\end{bmatrix}$\n",
        "- **Estado |+⟩**: $\\frac{1}{\\sqrt{2}}(|0⟩ + |1⟩)$\n",
        "- **Estado |-⟩**: $\\frac{1}{\\sqrt{2}}(|0⟩ - |1⟩)$\n",
        "- **Estado |i+⟩**: $\\frac{1}{\\sqrt{2}}(|0⟩ + i|1⟩)$\n",
        "\n",
        "Estos estados tienen diferentes significados en la esfera de Bloch y en la acción de puertas cuánticas."
      ]
    },
    {
      "cell_type": "code",
      "execution_count": null,
      "id": "8b6fee38",
      "metadata": {
        "id": "8b6fee38"
      },
      "outputs": [],
      "source": [
        "import numpy as np\n",
        "\n",
        "# Estados típicos\n",
        "ket_0 = np.array([[1], [0]])\n",
        "ket_1 = np.array([[0], [1]])\n",
        "ket_plus = (1/np.sqrt(2)) * (ket_0 + ket_1)\n",
        "ket_minus = (1/np.sqrt(2)) * (ket_0 - ket_1)\n",
        "\n",
        "print(\"|+⟩ =\\n\", ket_plus)\n",
        "print(\"|-⟩ =\\n\", ket_minus)"
      ]
    },
    {
      "cell_type": "markdown",
      "id": "c4c884a8",
      "metadata": {
        "id": "c4c884a8"
      },
      "source": [
        "## 📈 3. Visualización de amplitudes y probabilidades\n",
        "Podemos visualizar un qubit como un vector con componentes complejas. Para ver cómo se transforma en probabilidades, tomamos el cuadrado del módulo de cada componente."
      ]
    },
    {
      "cell_type": "code",
      "execution_count": null,
      "id": "4901d022",
      "metadata": {
        "id": "4901d022"
      },
      "outputs": [],
      "source": [
        "estado = (1/np.sqrt(2)) * np.array([[1], [1j]])\n",
        "\n",
        "p0 = abs(estado[0, 0])**2\n",
        "p1 = abs(estado[1, 0])**2\n",
        "\n",
        "print(f\"Probabilidad de |0⟩: {p0:.2f}\")\n",
        "print(f\"Probabilidad de |1⟩: {p1:.2f}\")"
      ]
    },
    {
      "cell_type": "code",
      "execution_count": null,
      "id": "b8c7e8af",
      "metadata": {
        "id": "b8c7e8af"
      },
      "outputs": [],
      "source": [
        "import matplotlib.pyplot as plt\n",
        "\n",
        "plt.bar(['|0⟩', '|1⟩'], [p0, p1], color=['blue', 'orange'])\n",
        "plt.title('Medición de un qubit en estado superpuesto')\n",
        "plt.ylabel('Probabilidad')\n",
        "plt.ylim(0,1)\n",
        "plt.grid(True)\n",
        "plt.show()"
      ]
    },
    {
      "cell_type": "markdown",
      "id": "d3408c21",
      "metadata": {
        "id": "d3408c21"
      },
      "source": [
        "## 🔬 4. El espín como ejemplo físico de un qubit\n",
        "Uno de los ejemplos más claros de un sistema de dos niveles en la naturaleza es el **espín del electrón**. Aunque no es una rotación literal, se comporta matemáticamente como si el electrón tuviera un momento angular con dos posibles orientaciones:\n",
        "\n",
        "- \\(|↑⟩\\) que se asocia con \\(|0⟩\\)\n",
        "- \\(|↓⟩\\) que se asocia con \\(|1⟩\\)\n",
        "\n",
        "Este comportamiento fue demostrado experimentalmente con el **experimento de Stern-Gerlach**, donde los electrones al pasar por un campo magnético se dividen en dos trayectorias bien definidas, no en una distribución continua como se esperaría clásicamente."
      ]
    },
    {
      "cell_type": "markdown",
      "id": "f700a542",
      "metadata": {
        "id": "f700a542"
      },
      "source": [
        "## 🧩 Ejercicios propuestos\n",
        "1. Calcula $|\\alpha|^2 + |\\beta|^2$ para el estado $|\\psi⟩ = \\frac{1}{2}|0⟩ + \\frac{\\sqrt{3}}{2}i|1⟩$.\n",
        "2. Representa gráficamente los valores de probabilidad de los estados |+⟩, |-⟩ y |i+⟩.\n",
        "3. Escribe una función que verifique si un vector cuántico está normalizado.\n",
        "4. Simula mediciones repetidas de un qubit en el estado |+⟩ usando `random.choices()`."
      ]
    },
    {
      "cell_type": "markdown",
      "id": "d629059e",
      "metadata": {
        "id": "d629059e"
      },
      "source": [
        "## ✅ Conclusión\n",
        "En este cuadernillo entendimos qué es un qubit desde la perspectiva física y matemática como sistema de dos niveles. Aprendimos a construir y analizar diferentes estados cuánticos básicos, y vimos su relación con fenómenos físicos reales como el espín.\n",
        "\n",
        "En el siguiente cuadernillo, abordaremos los **operadores cuánticos**: cómo representar transformaciones sobre qubits usando matrices."
      ]
    }
  ],
  "metadata": {
    "colab": {
      "provenance": []
    }
  },
  "nbformat": 4,
  "nbformat_minor": 5
}