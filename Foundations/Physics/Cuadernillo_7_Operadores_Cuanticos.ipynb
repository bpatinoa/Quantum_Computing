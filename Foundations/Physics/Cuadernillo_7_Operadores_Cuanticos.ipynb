{
  "cells": [
    {
      "cell_type": "markdown",
      "id": "2ff81cea",
      "metadata": {
        "id": "2ff81cea"
      },
      "source": [
        "# ⚛️ Cuadernillo 7: Operadores Cuánticos\n",
        "\n",
        "## 🎯 Objetivos\n",
        "- Comprender qué son los operadores cuánticos y cómo se representan.\n",
        "- Introducir las matrices de Pauli y su acción sobre los qubits.\n",
        "- Entender el papel de las matrices unitarias en la evolución cuántica.\n",
        "- Aplicar transformaciones a estados cuánticos y visualizar los resultados."
      ]
    },
    {
      "cell_type": "markdown",
      "id": "40f8bbe8",
      "metadata": {
        "id": "40f8bbe8"
      },
      "source": [
        "## 🧠 1. ¿Qué es un operador cuántico?\n",
        "En mecánica cuántica, un operador cuántico es una **matriz** que actúa sobre un estado cuántico (qubit), transformándolo. Matemáticamente, si $|\\psi⟩$ es un qubit y $U$ es un operador, entonces:\n",
        "$$\n",
        "|\\psi'⟩ = U|\\psi⟩\n",
        "$$\n",
        "Estos operadores **deben ser unitarios** para conservar la probabilidad (es decir, $U^\\dagger U = I$)."
      ]
    },
    {
      "cell_type": "markdown",
      "id": "39701683",
      "metadata": {
        "id": "39701683"
      },
      "source": [
        "## 🧮 2. Matrices de Pauli\n",
        "Las matrices de Pauli son los operadores más fundamentales en la computación cuántica. Se usan para representar rotaciones básicas en la esfera de Bloch:\n",
        "\n",
        "- $X$: Puerta NOT cuántica (flipa el qubit)\n",
        "$$ X = \\begin{bmatrix} 0 & 1 \\\\ 1 & 0 \\end{bmatrix} $$\n",
        "\n",
        "- $Y$: Rotación sobre el eje Y\n",
        "$$ Y = \\begin{bmatrix} 0 & -i \\\\ i & 0 \\end{bmatrix} $$\n",
        "\n",
        "- $Z$: Cambia el signo del estado $|1⟩$\n",
        "$$ Z = \\begin{bmatrix} 1 & 0 \\\\ 0 & -1 \\end{bmatrix} $$"
      ]
    },
    {
      "cell_type": "code",
      "execution_count": null,
      "id": "64bb985f",
      "metadata": {
        "id": "64bb985f"
      },
      "outputs": [],
      "source": [
        "import numpy as np\n",
        "\n",
        "X = np.array([[0, 1], [1, 0]])\n",
        "Y = np.array([[0, -1j], [1j, 0]])\n",
        "Z = np.array([[1, 0], [0, -1]])\n",
        "\n",
        "print(\"Pauli-X:\\n\", X)\n",
        "print(\"Pauli-Y:\\n\", Y)\n",
        "print(\"Pauli-Z:\\n\", Z)"
      ]
    },
    {
      "cell_type": "markdown",
      "id": "4215906f",
      "metadata": {
        "id": "4215906f"
      },
      "source": [
        "## 🔁 3. Aplicando operadores a qubits\n",
        "Vamos a aplicar la puerta X (NOT cuántica) sobre el estado \\(|0⟩\\):"
      ]
    },
    {
      "cell_type": "code",
      "execution_count": null,
      "id": "c534fe59",
      "metadata": {
        "id": "c534fe59"
      },
      "outputs": [],
      "source": [
        "ket_0 = np.array([[1], [0]])\n",
        "resultado = np.dot(X, ket_0)\n",
        "print(\"X|0⟩ =\\n\", resultado)"
      ]
    },
    {
      "cell_type": "markdown",
      "id": "4ca8082c",
      "metadata": {
        "id": "4ca8082c"
      },
      "source": [
        "Ahora probemos aplicar la puerta Z al estado $|+⟩ = \\frac{1}{\\sqrt{2}}(|0⟩ + |1⟩)$:"
      ]
    },
    {
      "cell_type": "code",
      "execution_count": null,
      "id": "5803bcff",
      "metadata": {
        "id": "5803bcff"
      },
      "outputs": [],
      "source": [
        "ket_1 = np.array([[0], [1]])\n",
        "ket_plus = (1/np.sqrt(2)) * (ket_0 + ket_1)\n",
        "resultado_z = np.dot(Z, ket_plus)\n",
        "print(\"Z|+⟩ =\\n\", resultado_z)"
      ]
    },
    {
      "cell_type": "markdown",
      "id": "5eb19c4c",
      "metadata": {
        "id": "5eb19c4c"
      },
      "source": [
        "## ✅ 4. ¿Qué es una matriz unitaria?\n",
        "Una matriz $U$ es unitaria si:\n",
        "$$\n",
        "U^\\dagger U = I\n",
        "$$\n",
        "Esto garantiza que la operación conserva la normalización del qubit (las probabilidades siguen sumando 1). Las puertas cuánticas **siempre** son matrices unitarias."
      ]
    },
    {
      "cell_type": "code",
      "execution_count": null,
      "id": "6c78c8a0",
      "metadata": {
        "id": "6c78c8a0"
      },
      "outputs": [],
      "source": [
        "def es_unitaria(U):\n",
        "    identidad = np.eye(U.shape[0])\n",
        "    return np.allclose(U.conj().T @ U, identidad)\n",
        "\n",
        "print(\"¿X es unitaria?\", es_unitaria(X))\n",
        "print(\"¿Y es unitaria?\", es_unitaria(Y))\n",
        "print(\"¿Z es unitaria?\", es_unitaria(Z))"
      ]
    },
    {
      "cell_type": "markdown",
      "id": "8d4bcc38",
      "metadata": {
        "id": "8d4bcc38"
      },
      "source": [
        "## 📊 5. Visualización del cambio de probabilidades\n",
        "Veamos cómo cambia la probabilidad de obtener |0⟩ y |1⟩ al aplicar una puerta cuántica."
      ]
    },
    {
      "cell_type": "code",
      "execution_count": null,
      "id": "adb13cd6",
      "metadata": {
        "id": "adb13cd6"
      },
      "outputs": [],
      "source": [
        "estado_inicial = ket_plus\n",
        "estado_transformado = np.dot(Z, estado_inicial)\n",
        "\n",
        "p0 = abs(estado_transformado[0, 0])**2\n",
        "p1 = abs(estado_transformado[1, 0])**2\n",
        "\n",
        "import matplotlib.pyplot as plt\n",
        "\n",
        "plt.bar(['|0⟩', '|1⟩'], [p0, p1], color=['blue', 'orange'])\n",
        "plt.title('Probabilidad tras aplicar Z a |+⟩')\n",
        "plt.ylabel('Probabilidad')\n",
        "plt.grid(True)\n",
        "plt.ylim(0, 1)\n",
        "plt.show()"
      ]
    },
    {
      "cell_type": "markdown",
      "id": "5006b662",
      "metadata": {
        "id": "5006b662"
      },
      "source": [
        "## 🧩 Ejercicios propuestos\n",
        "1. Aplica la matriz X al estado $|1⟩$ y verifica que el resultado es $|0⟩$.\n",
        "2. Aplica la matriz Y al estado $|+⟩$ y calcula las probabilidades de |0⟩ y |1⟩.\n",
        "3. Crea una función que aplique cualquier operador 2x2 a un qubit y retorne las nuevas probabilidades.\n",
        "4. Verifica si la matriz $H = \\frac{1}{\\sqrt{2}} \\begin{bmatrix}1 & 1 \\\\ 1 & -1\\end{bmatrix}$ es unitaria."
      ]
    },
    {
      "cell_type": "markdown",
      "id": "f6c5dc97",
      "metadata": {
        "id": "f6c5dc97"
      },
      "source": [
        "## ✅ Conclusión\n",
        "En este cuadernillo exploramos los operadores cuánticos, que son transformaciones representadas como matrices unitarias. Aplicamos puertas básicas como X, Y y Z sobre diferentes qubits y analizamos cómo afectan los estados y las probabilidades.\n",
        "\n",
        "En el próximo cuadernillo abordaremos los primeros algoritmos cuánticos simples para ver cómo estas operaciones se utilizan para resolver problemas computacionales."
      ]
    }
  ],
  "metadata": {
    "colab": {
      "provenance": []
    }
  },
  "nbformat": 4,
  "nbformat_minor": 5
}