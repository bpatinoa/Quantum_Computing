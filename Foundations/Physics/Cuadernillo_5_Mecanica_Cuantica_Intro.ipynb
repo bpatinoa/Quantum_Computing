{
  "cells": [
    {
      "cell_type": "markdown",
      "id": "79da56a8",
      "metadata": {
        "id": "79da56a8"
      },
      "source": [
        "# ⚛️ Cuadernillo 5: Introducción a la Mecánica Cuántica\n",
        "\n",
        "## 🎯 Objetivos\n",
        "- Comprender los principios fundamentales de la mecánica cuántica.\n",
        "- Introducir el concepto de qubit como unidad básica de información cuántica.\n",
        "- Explorar las ideas de superposición, interferencia y medición.\n",
        "- Relacionar los conceptos físicos con representaciones matemáticas y computacionales."
      ]
    },
    {
      "cell_type": "markdown",
      "id": "70036d36",
      "metadata": {
        "id": "70036d36"
      },
      "source": [
        "## 🧠 1. ¿Qué es la mecánica cuántica?\n",
        "La **mecánica cuántica** es una teoría física que describe el comportamiento de la materia y la energía a escalas muy pequeñas, como átomos, electrones y fotones. A diferencia de la física clásica, que es determinista, la cuántica introduce el azar y la probabilidad como elementos fundamentales.\n",
        "\n",
        "Esta teoría ha sido verificada experimentalmente miles de veces y forma la base de tecnologías modernas como los láseres, los semiconductores, la resonancia magnética, y por supuesto, la computación cuántica."
      ]
    },
    {
      "cell_type": "markdown",
      "id": "2c474944",
      "metadata": {
        "id": "2c474944"
      },
      "source": [
        "## 💡 2. Principios fundamentales de la mecánica cuántica\n",
        "A continuación veremos algunos principios clave que rigen los sistemas cuánticos. Estos serán la base conceptual para entender el funcionamiento de un computador cuántico.\n",
        "\n",
        "### 🔀 Superposición\n",
        "Un sistema cuántico puede estar en múltiples estados al mismo tiempo. Por ejemplo, un **qubit** puede estar en un estado $|0⟩$, $|1⟩$, o en una combinación lineal de ambos:\n",
        "$$\n",
        "|\\psi⟩ = \\alpha|0⟩ + \\beta|1⟩\n",
        "$$\n",
        "Donde $ \\alpha $ y $ \\beta $ son números complejos que determinan la probabilidad de medir el estado $|0⟩$ o $|1⟩$."
      ]
    },
    {
      "cell_type": "markdown",
      "id": "29d17b77",
      "metadata": {
        "id": "29d17b77"
      },
      "source": [
        "### 🌊 Interferencia\n",
        "Debido a que los estados cuánticos se describen con amplitudes complejas, estas pueden **interferir** entre sí constructivamente o destructivamente. Este fenómeno permite que algunos resultados se refuercen y otros se cancelen.\n",
        "\n",
        "Es una de las claves por las cuales los algoritmos cuánticos pueden superar a los clásicos."
      ]
    },
    {
      "cell_type": "markdown",
      "id": "7709c9e1",
      "metadata": {
        "id": "7709c9e1"
      },
      "source": [
        "### 🎲 Medición y colapso\n",
        "Cuando medimos un estado cuántico, este 'colapsa' a uno de los estados base $|0⟩$ o $|1⟩$, con una probabilidad determinada por el cuadrado del módulo de $\\alpha$ y $\\beta$.\n",
        "\n",
        "Esto significa que no podemos observar directamente la superposición, sino solo el resultado de la medición."
      ]
    },
    {
      "cell_type": "markdown",
      "id": "dabeb684",
      "metadata": {
        "id": "dabeb684"
      },
      "source": [
        "## 🧬 3. El qubit: unidad básica de información cuántica\n",
        "En computación clásica, la unidad básica de información es el **bit**, que puede tomar los valores 0 o 1. En computación cuántica, usamos el **qubit**, que puede estar en una superposición de 0 y 1 al mismo tiempo.\n",
        "\n",
        "Formalmente, un qubit es un vector en un espacio complejo de dos dimensiones, es decir:\n",
        "$$\n",
        "|\\psi⟩ = \\alpha|0⟩ + \\beta|1⟩,\\quad \\text{con } |\\alpha|^2 + |\\beta|^2 = 1\n",
        "$$\n",
        "Esta condición garantiza que el estado esté normalizado, es decir, que las probabilidades sumen 1."
      ]
    },
    {
      "cell_type": "code",
      "execution_count": null,
      "id": "8db09009",
      "metadata": {
        "id": "8db09009"
      },
      "outputs": [],
      "source": [
        "import numpy as np\n",
        "\n",
        "alpha = 1/np.sqrt(2)\n",
        "beta = 1j/np.sqrt(2)\n",
        "\n",
        "print(f\"α = {alpha}, β = {beta}\")\n",
        "print(\"|α|² + |β|² =\", abs(alpha)**2 + abs(beta)**2)"
      ]
    },
    {
      "cell_type": "markdown",
      "id": "edc789a8",
      "metadata": {
        "id": "edc789a8"
      },
      "source": [
        "## 📈 4. Visualización en la esfera de Bloch (idea conceptual)\n",
        "Aunque no la implementaremos aún gráficamente, es importante saber que **la esfera de Bloch** es una representación geométrica que permite visualizar cualquier qubit como un punto en una esfera de radio 1.\n",
        "\n",
        "- El polo norte representa el estado $|0⟩$,\n",
        "- El polo sur representa el estado $|1⟩$,\n",
        "- Los puntos intermedios representan superposiciones.\n",
        "\n",
        "Esta representación es fundamental cuando más adelante hablemos de puertas cuánticas como rotaciones."
      ]
    },
    {
      "cell_type": "markdown",
      "id": "883c0074",
      "metadata": {
        "id": "883c0074"
      },
      "source": [
        "## 🔭 5. Experimentos mentales clásicos\n",
        "### 🧪 Experimento de la doble rendija\n",
        "Este experimento demuestra que partículas como los electrones se comportan como ondas cuando no son observadas, y como partículas cuando son medidas.\n",
        "\n",
        "- Cuando no se mide por qué rendija pasa el electrón, se observa un patrón de interferencia.\n",
        "- Cuando se mide, el patrón desaparece y se comporta como una partícula.\n",
        "\n",
        "Este comportamiento muestra cómo la **medición cambia el sistema** cuántico, un fenómeno sin paralelo en la física clásica."
      ]
    },
    {
      "cell_type": "markdown",
      "id": "8dbbd054",
      "metadata": {
        "id": "8dbbd054"
      },
      "source": [
        "## 💻 6. Simulación básica de mediciones\n",
        "Vamos a simular un qubit en superposición y realizar varias mediciones para ver con qué frecuencia obtenemos |0⟩ y |1⟩."
      ]
    },
    {
      "cell_type": "code",
      "execution_count": null,
      "id": "b71a5bfc",
      "metadata": {
        "id": "b71a5bfc"
      },
      "outputs": [],
      "source": [
        "import random\n",
        "\n",
        "alpha = 1/np.sqrt(2)\n",
        "beta = 1j/np.sqrt(2)\n",
        "\n",
        "p0 = abs(alpha)**2\n",
        "p1 = abs(beta)**2\n",
        "\n",
        "resultados = [random.choices([0, 1], weights=[p0, p1])[0] for _ in range(1000)]\n",
        "\n",
        "conteo_0 = resultados.count(0)\n",
        "conteo_1 = resultados.count(1)\n",
        "\n",
        "print(f\"Conteo |0⟩: {conteo_0}, Conteo |1⟩: {conteo_1}\")"
      ]
    },
    {
      "cell_type": "code",
      "execution_count": null,
      "id": "eadde6f5",
      "metadata": {
        "id": "eadde6f5"
      },
      "outputs": [],
      "source": [
        "import matplotlib.pyplot as plt\n",
        "\n",
        "plt.bar(['|0⟩', '|1⟩'], [conteo_0, conteo_1], color=['blue', 'orange'])\n",
        "plt.title('Simulación de 1000 mediciones de un qubit')\n",
        "plt.ylabel('Frecuencia')\n",
        "plt.grid(True)\n",
        "plt.show()"
      ]
    },
    {
      "cell_type": "markdown",
      "id": "8fadc152",
      "metadata": {
        "id": "8fadc152"
      },
      "source": [
        "## 🧩 Ejercicios propuestos\n",
        "1. Cambia los valores de $\\alpha$ y $\\beta$ para representar otros estados como $|0⟩$, $|1⟩$ y $|+⟩ = \\frac{1}{\\sqrt{2}}(|0⟩ + |1⟩)$.\n",
        "2. Simula 10000 mediciones y verifica que la frecuencia de cada resultado se acerca a la probabilidad teórica.\n",
        "3. Escribe una función que normalice automáticamente un estado cuántico dado ($\\alpha$, $\\beta$).\n",
        "4. Reflexiona: ¿por qué no podemos saber el estado exacto antes de medir?"
      ]
    },
    {
      "cell_type": "markdown",
      "id": "4cb796a8",
      "metadata": {
        "id": "4cb796a8"
      },
      "source": [
        "## ✅ Conclusión\n",
        "En este cuadernillo vimos los pilares de la mecánica cuántica: superposición, interferencia, y colapso por medición. También introdujimos el qubit y simulamos sus mediciones.\n",
        "\n",
        "Este conocimiento es la base para comprender el comportamiento de sistemas cuánticos y las operaciones que podremos hacer en próximos cuadernillos.\n",
        "\n",
        "En el siguiente, exploraremos el **qubit como sistema de dos niveles** y profundizaremos en su representación matemática y física."
      ]
    }
  ],
  "metadata": {
    "colab": {
      "provenance": []
    }
  },
  "nbformat": 4,
  "nbformat_minor": 5
}