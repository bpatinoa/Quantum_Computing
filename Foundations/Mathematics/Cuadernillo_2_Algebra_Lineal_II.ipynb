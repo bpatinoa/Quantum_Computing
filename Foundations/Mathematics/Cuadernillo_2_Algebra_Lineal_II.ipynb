{
  "cells": [
    {
      "cell_type": "markdown",
      "source": [
        "**By: Brian Patiño Agudelo**"
      ],
      "metadata": {
        "id": "x3Usye8CKP44"
      },
      "id": "x3Usye8CKP44"
    },
    {
      "cell_type": "markdown",
      "id": "bb6e3a5b",
      "metadata": {
        "id": "bb6e3a5b"
      },
      "source": [
        "# 🧮 Cuadernillo 2: Álgebra Lineal II – Espacios Vectoriales Complejos y Matrices Hermíticas\n",
        "\n",
        "## 🎯 Objetivos\n",
        "- Entender qué es un espacio vectorial complejo.\n",
        "- Aprender sobre autovalores y autovectores.\n",
        "- Conocer las matrices hermíticas y unitarias.\n",
        "- Visualizar con `matplotlib` algunos conceptos."
      ]
    },
    {
      "cell_type": "markdown",
      "id": "e3217aa6",
      "metadata": {
        "id": "e3217aa6"
      },
      "source": [
        "## 🧠 1. Espacios vectoriales complejos\n",
        "En computación cuántica, los vectores viven en espacios vectoriales complejos. Es decir, sus componentes pueden ser números complejos.\n",
        "\n",
        "Ejemplo de un vector complejo:\n",
        "$$\n",
        "\\vec{v} = \\begin{bmatrix} 1+i \\\\ 2-2i \\end{bmatrix}\n",
        "$$"
      ]
    },
    {
      "cell_type": "code",
      "execution_count": null,
      "id": "74fe7629",
      "metadata": {
        "id": "74fe7629"
      },
      "outputs": [],
      "source": [
        "import numpy as np\n",
        "v = np.array([[1 + 1j], [2 - 2j]])\n",
        "print(\"Vector complejo:\\n\", v)"
      ]
    },
    {
      "cell_type": "markdown",
      "id": "9c760eb5",
      "metadata": {
        "id": "9c760eb5"
      },
      "source": [
        "## 🧩 2. Producto interno en espacios complejos\n",
        "En espacios complejos, el producto interno incluye conjugación:\n",
        "$$\\langle u | v \\rangle = \\sum u_i^* v_i$$"
      ]
    },
    {
      "cell_type": "code",
      "execution_count": null,
      "id": "6b00d1ce",
      "metadata": {
        "id": "6b00d1ce"
      },
      "outputs": [],
      "source": [
        "u = np.array([1 + 1j, 2])\n",
        "v = np.array([2, 1 - 1j])\n",
        "producto_interno = np.vdot(u, v)\n",
        "print(\"Producto interno complejo:\", producto_interno)"
      ]
    },
    {
      "cell_type": "markdown",
      "id": "ac31bbb1",
      "metadata": {
        "id": "ac31bbb1"
      },
      "source": [
        "## ⚙️ 3. Autovalores y autovectores\n",
        "Para una matriz $A$, si $Av = \\lambda v$, entonces $\\lambda$ es un **autovalor** y $v$ es un **autovector**."
      ]
    },
    {
      "cell_type": "code",
      "execution_count": null,
      "id": "3a64c863",
      "metadata": {
        "id": "3a64c863"
      },
      "outputs": [],
      "source": [
        "A = np.array([[2, 0],\n",
        "              [0, 3]])\n",
        "\n",
        "valores, vectores = np.linalg.eig(A)\n",
        "print(\"Autovalores:\", valores)\n",
        "print(\"Autovectores:\\n\", vectores)"
      ]
    },
    {
      "cell_type": "markdown",
      "id": "c3f76697",
      "metadata": {
        "id": "c3f76697"
      },
      "source": [
        "## 🔁 4. Matrices hermíticas y unitarias\n",
        "- Una **matriz hermítica** cumple: $ A = A^\\dagger $\n",
        "- Una **matriz unitaria** cumple: $ U^\\dagger U = I $\n",
        "\n",
        "Son fundamentales en computación cuántica porque las matrices hermíticas representan observables y las matrices unitarias representan evoluciones."
      ]
    },
    {
      "cell_type": "code",
      "execution_count": null,
      "id": "9ae37197",
      "metadata": {
        "id": "9ae37197"
      },
      "outputs": [],
      "source": [
        "# Matriz Hermítica (ejemplo)\n",
        "hermitica = np.array([[2, 1j], [-1j, 3]])\n",
        "print(\"Hermítica:\\n\", hermitica)\n",
        "print(\"Es hermítica:\", np.allclose(hermitica, hermitica.conj().T))"
      ]
    },
    {
      "cell_type": "code",
      "execution_count": null,
      "id": "285d8571",
      "metadata": {
        "id": "285d8571"
      },
      "outputs": [],
      "source": [
        "# Matriz Unitaria (ejemplo)\n",
        "unitaria = np.array([[1/np.sqrt(2), 1/np.sqrt(2)],\n",
        "                    [1/np.sqrt(2), -1/np.sqrt(2)]])\n",
        "print(\"Unitaria:\\n\", unitaria)\n",
        "print(\"Es unitaria:\", np.allclose(unitaria.conj().T @ unitaria, np.eye(2)))"
      ]
    },
    {
      "cell_type": "markdown",
      "id": "737e8d46",
      "metadata": {
        "id": "737e8d46"
      },
      "source": [
        "## 📊 5. Visualización con `matplotlib`\n",
        "Vamos a visualizar vectores complejos en el plano complejo (parte real vs imaginaria)."
      ]
    },
    {
      "cell_type": "code",
      "execution_count": null,
      "id": "1392ef64",
      "metadata": {
        "id": "1392ef64"
      },
      "outputs": [],
      "source": [
        "import matplotlib.pyplot as plt\n",
        "\n",
        "v = np.array([1+1j, 2-2j, -1+0.5j])\n",
        "\n",
        "plt.figure(figsize=(6, 6))\n",
        "plt.axhline(0, color='gray')\n",
        "plt.axvline(0, color='gray')\n",
        "for z in v:\n",
        "    plt.plot(z.real, z.imag, 'o')\n",
        "    plt.arrow(0, 0, z.real, z.imag, head_width=0.1, length_includes_head=True)\n",
        "\n",
        "plt.xlabel('Parte real')\n",
        "plt.ylabel('Parte imaginaria')\n",
        "plt.title('Vectores complejos en el plano complejo')\n",
        "plt.grid(True)\n",
        "plt.axis('equal')\n",
        "plt.show()"
      ]
    },
    {
      "cell_type": "markdown",
      "id": "e8bd741a",
      "metadata": {
        "id": "e8bd741a"
      },
      "source": [
        "## 🧩 Ejercicios propuestos\n",
        "1. Verifica si la matriz $\\begin{bmatrix} 0 & i \\\\ -i & 0 \\end{bmatrix}$ es hermítica.\n",
        "2. Calcula autovalores y autovectores de la matriz $\\begin{bmatrix} 4 & 1 \\\\ 1 & 4 \\end{bmatrix}$.\n",
        "3. Construye una matriz unitaria 2x2 distinta a la anterior y verifica la propiedad $ U^\\dagger U = I $.\n",
        "4. Representa gráficamente los siguientes vectores complejos: $1+i$, $-1+i$, $2-2i$."
      ]
    },
    {
      "cell_type": "markdown",
      "id": "2466fb40",
      "metadata": {
        "id": "2466fb40"
      },
      "source": [
        "## 🧩 Conclusión\n",
        "En este cuadernillo aprendimos:\n",
        "- Qué es un espacio vectorial complejo y cómo operar con él.\n",
        "- Cómo calcular autovalores y autovectores.\n",
        "- Qué son las matrices hermíticas y unitarias.\n",
        "- Cómo visualizar vectores complejos con `matplotlib`.\n",
        "\n",
        "En el siguiente cuadernillo abordaremos **probabilidad y estadística cuántica**, un paso esencial para entender las mediciones."
      ]
    }
  ],
  "metadata": {
    "colab": {
      "provenance": []
    }
  },
  "nbformat": 4,
  "nbformat_minor": 5
}