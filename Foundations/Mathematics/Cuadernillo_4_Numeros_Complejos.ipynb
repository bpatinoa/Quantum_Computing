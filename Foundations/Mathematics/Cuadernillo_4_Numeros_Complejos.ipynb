{
  "cells": [
    {
      "cell_type": "markdown",
      "id": "b7ade3ee",
      "metadata": {
        "id": "b7ade3ee"
      },
      "source": [
        "# 🔢 Cuadernillo 4: Números Complejos y Funciones\n",
        "\n",
        "## 🎯 Objetivos\n",
        "- Comprender los fundamentos de los números complejos y sus representaciones.\n",
        "- Aprender a operar con números complejos: suma, producto, conjugado, módulo.\n",
        "- Entender la representación polar y exponencial de los números complejos.\n",
        "- Explorar la función exponencial compleja y la identidad de Euler.\n",
        "- Visualizar números complejos en el plano complejo usando `matplotlib`."
      ]
    },
    {
      "cell_type": "markdown",
      "id": "c6838baf",
      "metadata": {
        "id": "c6838baf"
      },
      "source": [
        "## 🧠 1. ¿Qué es un número complejo?\n",
        "Un número complejo se define como una combinación de una parte real y una parte imaginaria:\n",
        "\n",
        "$$ z = a + bi $$\n",
        "\n",
        "Donde:\n",
        "- $ a $ es la parte real.\n",
        "- $ b $ es la parte imaginaria.\n",
        "- $ i $ es la unidad imaginaria, definida como $ i^2 = -1 $.\n",
        "\n",
        "En computación cuántica, los números complejos son fundamentales porque los estados cuánticos se expresan como combinaciones lineales de números complejos."
      ]
    },
    {
      "cell_type": "code",
      "execution_count": null,
      "id": "6a83ef28",
      "metadata": {
        "id": "6a83ef28"
      },
      "outputs": [],
      "source": [
        "z = 3 + 4j\n",
        "print(\"Número complejo:\", z)\n",
        "print(\"Parte real:\", z.real)\n",
        "print(\"Parte imaginaria:\", z.imag)"
      ]
    },
    {
      "cell_type": "markdown",
      "id": "49f34bbb",
      "metadata": {
        "id": "49f34bbb"
      },
      "source": [
        "## ➕ 2. Operaciones básicas con números complejos\n",
        "Podemos realizar operaciones como la suma, resta, multiplicación, división y obtener el conjugado y el módulo."
      ]
    },
    {
      "cell_type": "code",
      "execution_count": null,
      "id": "1916c2b1",
      "metadata": {
        "id": "1916c2b1"
      },
      "outputs": [],
      "source": [
        "z1 = 1 + 2j\n",
        "z2 = 2 - 1j\n",
        "\n",
        "print(\"Suma:\", z1 + z2)\n",
        "print(\"Producto:\", z1 * z2)\n",
        "print(\"Conjugado de z1:\", np.conj(z1))\n",
        "print(\"Módulo de z1:\", abs(z1))"
      ]
    },
    {
      "cell_type": "markdown",
      "id": "0864ca71",
      "metadata": {
        "id": "0864ca71"
      },
      "source": [
        "## 📐 3. Representación geométrica: plano complejo\n",
        "Podemos representar un número complejo como un punto en el plano, donde el eje horizontal es la parte real y el eje vertical es la parte imaginaria.\n",
        "\n",
        "Visualicemos algunos puntos:"
      ]
    },
    {
      "cell_type": "code",
      "execution_count": null,
      "id": "bc8fa03d",
      "metadata": {
        "id": "bc8fa03d"
      },
      "outputs": [],
      "source": [
        "import matplotlib.pyplot as plt\n",
        "\n",
        "complejos = [1+1j, 2-1j, -1+2j, -2-2j]\n",
        "\n",
        "plt.figure(figsize=(6,6))\n",
        "for z in complejos:\n",
        "    plt.plot(z.real, z.imag, 'o')\n",
        "    plt.arrow(0, 0, z.real, z.imag, head_width=0.1, length_includes_head=True)\n",
        "\n",
        "plt.axhline(0, color='gray')\n",
        "plt.axvline(0, color='gray')\n",
        "plt.xlabel('Parte real')\n",
        "plt.ylabel('Parte imaginaria')\n",
        "plt.title('Representación en el plano complejo')\n",
        "plt.grid(True)\n",
        "plt.axis('equal')\n",
        "plt.show()"
      ]
    },
    {
      "cell_type": "markdown",
      "id": "2484ca3c",
      "metadata": {
        "id": "2484ca3c"
      },
      "source": [
        "## 📏 4. Forma polar de un número complejo\n",
        "Todo número complejo puede expresarse en forma **polar**:\n",
        "$$ z = r(\\cos \\theta + i\\sin \\theta) $$\n",
        "Dónde:\n",
        "- $ r = |z| $ es el módulo (distancia al origen).\n",
        "- $ \\theta = \\arg(z) $ es el argumento (ángulo respecto al eje real).\n",
        "\n",
        "También se puede expresar en **forma exponencial** mediante la identidad de Euler:\n",
        "$$ z = re^{i\\theta} $$"
      ]
    },
    {
      "cell_type": "code",
      "execution_count": null,
      "id": "6566705a",
      "metadata": {
        "id": "6566705a"
      },
      "outputs": [],
      "source": [
        "z = 1 + 1j\n",
        "modulo = abs(z)\n",
        "angulo = np.angle(z)\n",
        "\n",
        "print(\"Módulo:\", modulo)\n",
        "print(\"Ángulo (en radianes):\", angulo)\n",
        "\n",
        "z_exponencial = modulo * np.exp(1j * angulo)\n",
        "print(\"Forma exponencial:\", z_exponencial)"
      ]
    },
    {
      "cell_type": "markdown",
      "id": "acf564a8",
      "metadata": {
        "id": "acf564a8"
      },
      "source": [
        "## 🧠 5. Identidad de Euler\n",
        "La **identidad de Euler** es una de las fórmulas más bellas de las matemáticas:\n",
        "$$ e^{i\\theta} = \\cos(\\theta) + i\\sin(\\theta) $$\n",
        "Y en el caso particular donde $\\theta = \\pi$:\n",
        "$$ e^{i\\pi} + 1 = 0 $$\n",
        "Esta fórmula relaciona los números más importantes: $e$, $i$, $\\pi$, 1 y 0."
      ]
    },
    {
      "cell_type": "code",
      "execution_count": null,
      "id": "97cd65e7",
      "metadata": {
        "id": "97cd65e7"
      },
      "outputs": [],
      "source": [
        "theta = np.pi\n",
        "\n",
        "izq = np.exp(1j * theta)\n",
        "derecha = np.cos(theta) + 1j * np.sin(theta)\n",
        "\n",
        "print(\"e^{iπ} =\", izq)\n",
        "print(\"cos(π) + i·sen(π) =\", derecha)\n",
        "print(\"e^{iπ} + 1 =\", izq + 1)"
      ]
    },
    {
      "cell_type": "markdown",
      "id": "d51e9d54",
      "metadata": {
        "id": "d51e9d54"
      },
      "source": [
        "## 🔁 6. ¿Por qué esto importa en computación cuántica?\n",
        "En computación cuántica, los estados de los qubits se representan usando números complejos. Las **transformaciones** que sufren estos estados son operadas mediante matrices con entradas complejas (unitarias). La representación en forma polar y la rotación de fases son fundamentales para el análisis de puertas cuánticas como la Hadamard, la Pauli-Z o la fase T."
      ]
    },
    {
      "cell_type": "markdown",
      "id": "d3341cb5",
      "metadata": {
        "id": "d3341cb5"
      },
      "source": [
        "## 🧩 Ejercicios propuestos\n",
        "1. Calcula el módulo y el argumento del número $3 + 4i$.\n",
        "2. Representa gráficamente los números $1 + i$, $-2 + 2i$ y $1 - i$.\n",
        "3. Escribe la forma polar de $z = -1 + i$ y verifica que $z = re^{iθ}$.\n",
        "4. Usa Python para mostrar que $e^{i\\pi/2} = i$ y $e^{i\\pi/4} = \\frac{\\sqrt{2}}{2} + i\\frac{\\sqrt{2}}{2}$.\n",
        "5. Escribe una función que reciba un número complejo y retorne su forma polar y exponencial."
      ]
    },
    {
      "cell_type": "markdown",
      "id": "2487a4a0",
      "metadata": {
        "id": "2487a4a0"
      },
      "source": [
        "## ✅ Conclusión\n",
        "En este cuadernillo aprendimos:\n",
        "- Qué son los números complejos y cómo operarlos en Python.\n",
        "- Qué es la forma polar y exponencial, y cómo visualizar números complejos.\n",
        "- Qué representa la identidad de Euler y cómo se aplica en computación cuántica.\n",
        "\n",
        "Con estos conocimientos, ya podemos entender más fácilmente cómo se representan los qubits y cómo las transformaciones cuánticas actúan sobre ellos. En el siguiente cuadernillo comenzaremos con los **fundamentos físicos de la mecánica cuántica**."
      ]
    }
  ],
  "metadata": {
    "colab": {
      "provenance": []
    }
  },
  "nbformat": 4,
  "nbformat_minor": 5
}