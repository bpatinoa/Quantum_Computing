{
  "cells": [
    {
      "cell_type": "markdown",
      "id": "4e723a70",
      "metadata": {
        "id": "4e723a70"
      },
      "source": [
        "# 🧮 Cuadernillo 1: Álgebra Lineal I – Vectores y Matrices\n",
        "\n",
        "## 🎯 Objetivos\n",
        "- Comprender qué es un vector y una matriz.\n",
        "- Aprender a realizar operaciones básicas con matrices y vectores.\n",
        "- Aplicar `numpy` para trabajar con álgebra lineal.\n",
        "- Introducir el producto escalar y el producto tensorial."
      ]
    },
    {
      "cell_type": "markdown",
      "id": "3c925d3c",
      "metadata": {
        "id": "3c925d3c"
      },
      "source": [
        "## 🧠 1. ¿Qué es un vector?\n",
        "Un **vector** es un objeto matemático que tiene magnitud y dirección. En álgebra lineal, se representa como una lista de números ordenados.\n",
        "\n",
        "Por ejemplo:\n",
        "- Vector fila: \\([1, 2, 3]\\)\n",
        "- Vector columna:\n",
        " \\begin{bmatrix} 1 \\\\ 2 \\\\ 3 \\end{bmatrix}\n",
        "\n",
        "Usaremos **vectores columna** porque en computación cuántica los estados se representan así."
      ]
    },
    {
      "cell_type": "code",
      "execution_count": 1,
      "id": "42866e4e",
      "metadata": {
        "colab": {
          "base_uri": "https://localhost:8080/"
        },
        "id": "42866e4e",
        "outputId": "193e14c8-b303-48e8-c871-271a9d6412fc"
      },
      "outputs": [
        {
          "output_type": "stream",
          "name": "stdout",
          "text": [
            "Vector columna:\n",
            " [[1]\n",
            " [2]\n",
            " [3]]\n"
          ]
        }
      ],
      "source": [
        "import numpy as np\n",
        "\n",
        "# Vector columna\n",
        "v = np.array([[1],\n",
        "              [2],\n",
        "              [3]])\n",
        "\n",
        "print(\"Vector columna:\\n\", v)"
      ]
    },
    {
      "cell_type": "markdown",
      "id": "7b3f205c",
      "metadata": {
        "id": "7b3f205c"
      },
      "source": [
        "## 🧩 2. ¿Qué es una matriz?\n",
        "Una **matriz** es un arreglo rectangular de números. Puede representar operaciones lineales sobre vectores.\n",
        "\n",
        "Ejemplo de una matriz 2x2:\n",
        "\n",
        "$$\n",
        "A = \\begin{bmatrix}\n",
        "1 & 2 \\\\\n",
        "3 & 4\n",
        "\\end{bmatrix}\n",
        "$$"
      ]
    },
    {
      "cell_type": "code",
      "execution_count": null,
      "id": "7c0ec2f3",
      "metadata": {
        "id": "7c0ec2f3"
      },
      "outputs": [],
      "source": [
        "A = np.array([[1, 2],\n",
        "              [3, 4]])\n",
        "\n",
        "print(\"Matriz A:\\n\", A)"
      ]
    },
    {
      "cell_type": "markdown",
      "id": "6f26c423",
      "metadata": {
        "id": "6f26c423"
      },
      "source": [
        "## ⚙️ 3. Operaciones básicas\n",
        "\n",
        "### Suma de vectores"
      ]
    },
    {
      "cell_type": "code",
      "execution_count": null,
      "id": "0e692625",
      "metadata": {
        "id": "0e692625"
      },
      "outputs": [],
      "source": [
        "a = np.array([[1], [2]])\n",
        "b = np.array([[3], [4]])\n",
        "\n",
        "print(\"a + b =\\n\", a + b)"
      ]
    },
    {
      "cell_type": "markdown",
      "id": "635c02f7",
      "metadata": {
        "id": "635c02f7"
      },
      "source": [
        "### Producto escalar (dot product)\n",
        "$$ \\vec{a} \\cdot \\vec{b} = a_1 b_1 + a_2 b_2 + \\dots + a_n b_n $$"
      ]
    },
    {
      "cell_type": "code",
      "execution_count": null,
      "id": "7db2bbd6",
      "metadata": {
        "id": "7db2bbd6"
      },
      "outputs": [],
      "source": [
        "a = np.array([1, 2])\n",
        "b = np.array([3, 4])\n",
        "\n",
        "producto_escalar = np.dot(a, b)\n",
        "print(\"Producto escalar:\", producto_escalar)"
      ]
    },
    {
      "cell_type": "markdown",
      "id": "3951792b",
      "metadata": {
        "id": "3951792b"
      },
      "source": [
        "### Producto matriz por vector"
      ]
    },
    {
      "cell_type": "code",
      "execution_count": null,
      "id": "77f40ed6",
      "metadata": {
        "id": "77f40ed6"
      },
      "outputs": [],
      "source": [
        "A = np.array([[1, 2],\n",
        "              [3, 4]])\n",
        "\n",
        "v = np.array([[5],\n",
        "              [6]])\n",
        "\n",
        "resultado = np.dot(A, v)\n",
        "print(\"A * v =\\n\", resultado)"
      ]
    },
    {
      "cell_type": "markdown",
      "id": "a0c160ad",
      "metadata": {
        "id": "a0c160ad"
      },
      "source": [
        "## 🔁 4. Producto tensorial\n",
        "Muy importante en computación cuántica para combinar qubits.\n",
        "\n",
        "$$\n",
        "\\text{Si } a = \\begin{bmatrix} 1 \\\\ 0 \\end{bmatrix},\\quad\n",
        "b = \\begin{bmatrix} 0 \\\\ 1 \\end{bmatrix},\\quad\n",
        "a \\otimes b = \\begin{bmatrix} 0 \\\\ 1 \\\\ 0 \\\\ 0 \\end{bmatrix}\n",
        "$$"
      ]
    },
    {
      "cell_type": "code",
      "execution_count": null,
      "id": "b5af8d40",
      "metadata": {
        "id": "b5af8d40"
      },
      "outputs": [],
      "source": [
        "a = np.array([[1], [0]])\n",
        "b = np.array([[0], [1]])\n",
        "\n",
        "producto_tensorial = np.kron(a, b)\n",
        "print(\"a ⊗ b =\\n\", producto_tensorial)"
      ]
    },
    {
      "cell_type": "markdown",
      "id": "02433f7c",
      "metadata": {
        "id": "02433f7c"
      },
      "source": [
        "## 📚 5. Ejercicios para practicar\n",
        "1. Crea dos vectores columna $ u = [2, -1]^T $ y $ v = [3, 4]^T $. Suma ambos.\n",
        "2. Calcula el producto escalar entre $ [1, 0, -1] $ y $ [2, 3, 4] $.\n",
        "3. Multiplica la matriz $ M = \\left[\\begin{smallmatrix} 0 & 1 \\\\ 1 & 0 \\end{smallmatrix}\\right] $ por el vector $ [1, 0]^T $.\n",
        "4. Calcula el producto tensorial entre $ [1, 0]^T $ y $ [1, 1]^T $."
      ]
    },
    {
      "cell_type": "markdown",
      "id": "b7688a76",
      "metadata": {
        "id": "b7688a76"
      },
      "source": [
        "## 🧩 Conclusión\n",
        "En este cuadernillo aprendimos:\n",
        "- Cómo representar vectores y matrices en Python.\n",
        "- Qué es el producto escalar y tensorial.\n",
        "- Cómo usar `numpy` para trabajar con álgebra lineal.\n",
        "\n",
        "En el próximo cuadernillo exploraremos **espacios vectoriales complejos, matrices hermíticas y autovalores**, fundamentales para los operadores cuánticos.\n"
      ]
    }
  ],
  "metadata": {
    "colab": {
      "provenance": []
    },
    "language_info": {
      "name": "python"
    },
    "kernelspec": {
      "name": "python3",
      "display_name": "Python 3"
    }
  },
  "nbformat": 4,
  "nbformat_minor": 5
}