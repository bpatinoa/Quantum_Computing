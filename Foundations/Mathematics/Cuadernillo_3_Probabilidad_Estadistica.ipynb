{
  "cells": [
    {
      "cell_type": "markdown",
      "id": "ac688f11",
      "metadata": {
        "id": "ac688f11"
      },
      "source": [
        "# 📊 Cuadernillo 3: Probabilidad y Estadística Cuántica\n",
        "\n",
        "## 🎯 Objetivos\n",
        "- Comprender los fundamentos de la probabilidad clásica.\n",
        "- Introducir la probabilidad en sistemas cuánticos.\n",
        "- Calcular medidas estadísticas: esperanza, varianza.\n",
        "- Visualizar distribuciones discretas en Python."
      ]
    },
    {
      "cell_type": "markdown",
      "id": "26737034",
      "metadata": {
        "id": "26737034"
      },
      "source": [
        "## 🧠 1. Probabilidad clásica\n",
        "La probabilidad clásica mide la frecuencia esperada de un evento. Por ejemplo, lanzar un dado justo tiene una probabilidad de 1/6 para cada cara."
      ]
    },
    {
      "cell_type": "code",
      "execution_count": null,
      "id": "57710840",
      "metadata": {
        "id": "57710840"
      },
      "outputs": [],
      "source": [
        "eventos = [1, 2, 3, 4, 5, 6]\n",
        "probabilidades = [1/6]*6\n",
        "\n",
        "for evento, p in zip(eventos, probabilidades):\n",
        "    print(f\"P({evento}) = {p}\")"
      ]
    },
    {
      "cell_type": "markdown",
      "id": "866507bf",
      "metadata": {
        "id": "866507bf"
      },
      "source": [
        "## 🔢 2. Distribuciones discretas\n",
        "Una distribución discreta lista todos los posibles valores y sus probabilidades. Podemos representarlas gráficamente."
      ]
    },
    {
      "cell_type": "code",
      "execution_count": null,
      "id": "444e7d51",
      "metadata": {
        "id": "444e7d51"
      },
      "outputs": [],
      "source": [
        "import matplotlib.pyplot as plt\n",
        "\n",
        "plt.bar(eventos, probabilidades)\n",
        "plt.xlabel('Evento')\n",
        "plt.ylabel('Probabilidad')\n",
        "plt.title('Distribución uniforme de un dado')\n",
        "plt.grid(True)\n",
        "plt.show()"
      ]
    },
    {
      "cell_type": "markdown",
      "id": "e87f1152",
      "metadata": {
        "id": "e87f1152"
      },
      "source": [
        "## 🌀 3. Probabilidad en sistemas cuánticos\n",
        "En computación cuántica, un estado $|\\psi\\rangle = \\alpha|0\\rangle + \\beta|1\\rangle$ tiene una probabilidad dada por el **cuadrado del módulo** de los coeficientes:\n",
        "$ P(0) = |\\alpha|^2,\\quad P(1) = |\\beta|^2 $\n",
        "Deben cumplir: $ |\\alpha|^2 + |\\beta|^2 = 1 $"
      ]
    },
    {
      "cell_type": "code",
      "execution_count": null,
      "id": "eea29f25",
      "metadata": {
        "id": "eea29f25"
      },
      "outputs": [],
      "source": [
        "alpha = 1/np.sqrt(2)\n",
        "beta = 1j/np.sqrt(2)\n",
        "\n",
        "p0 = abs(alpha)**2\n",
        "p1 = abs(beta)**2\n",
        "\n",
        "print(f\"P(0) = {p0}, P(1) = {p1}\")"
      ]
    },
    {
      "cell_type": "code",
      "execution_count": null,
      "id": "a99771d0",
      "metadata": {
        "id": "a99771d0"
      },
      "outputs": [],
      "source": [
        "plt.bar(['|0⟩', '|1⟩'], [p0, p1], color=['blue', 'orange'])\n",
        "plt.title('Probabilidad de medir un qubit')\n",
        "plt.ylabel('Probabilidad')\n",
        "plt.ylim(0,1)\n",
        "plt.grid(True)\n",
        "plt.show()"
      ]
    },
    {
      "cell_type": "markdown",
      "id": "30d1215b",
      "metadata": {
        "id": "30d1215b"
      },
      "source": [
        "## 📏 4. Esperanza y varianza\n",
        "Para una variable aleatoria discreta $X$ con valores $x_i$ y probabilidades $p_i$:\n",
        "\n",
        "- **Esperanza**: $\\mathbb{E}[X] = \\sum x_i p_i$\n",
        "- **Varianza**: $Var(X) = \\sum p_i (x_i - \\mathbb{E}[X])^2$"
      ]
    },
    {
      "cell_type": "code",
      "execution_count": null,
      "id": "2cda6c71",
      "metadata": {
        "id": "2cda6c71"
      },
      "outputs": [],
      "source": [
        "x = np.array([0, 1])\n",
        "p = np.array([p0, p1])\n",
        "\n",
        "esperanza = np.sum(x * p)\n",
        "varianza = np.sum(p * (x - esperanza)**2)\n",
        "\n",
        "print(f\"Esperanza: {esperanza}, Varianza: {varianza}\")"
      ]
    },
    {
      "cell_type": "markdown",
      "id": "a0ce37e4",
      "metadata": {
        "id": "a0ce37e4"
      },
      "source": [
        "## 🧩 Ejercicios propuestos\n",
        "1. Simula la distribución de una moneda con 70% de probabilidad de cara (|0⟩).\n",
        "2. Verifica que $|\\alpha|^2 + |\\beta|^2 = 1$ para $\\alpha = 1/2, \\beta = \\sqrt{3}/2$.\n",
        "3. Calcula la esperanza y varianza de la medición de un qubit en el estado $|\\psi⟩ = \\sqrt{3}/2 |0⟩ + 1/2 |1⟩$.\n",
        "4. Visualiza la distribución de probabilidad de lanzar una moneda 100 veces usando `matplotlib`."
      ]
    },
    {
      "cell_type": "markdown",
      "id": "5364e713",
      "metadata": {
        "id": "5364e713"
      },
      "source": [
        "## ✅ Conclusión\n",
        "En este cuadernillo aprendimos:\n",
        "- Cómo calcular probabilidades clásicas y cuánticas.\n",
        "- Qué es la distribución de probabilidad y cómo representarla.\n",
        "- Cómo calcular esperanza y varianza.\n",
        "\n",
        "En el siguiente cuadernillo exploraremos los **números complejos y funciones**, que se usan en los operadores y en la evolución de estados cuánticos."
      ]
    }
  ],
  "metadata": {
    "colab": {
      "provenance": []
    }
  },
  "nbformat": 4,
  "nbformat_minor": 5
}